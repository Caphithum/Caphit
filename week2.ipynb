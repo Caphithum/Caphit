{
 "cells": [
  {
   "cell_type": "code",
   "execution_count": 1,
   "id": "87a71b88-cf8e-416b-9515-e5bf3568be2f",
   "metadata": {},
   "outputs": [
    {
     "name": "stdout",
     "output_type": "stream",
     "text": [
      "请输入一个数字\n"
     ]
    },
    {
     "name": "stdin",
     "output_type": "stream",
     "text": [
      " 5\n"
     ]
    },
    {
     "name": "stdout",
     "output_type": "stream",
     "text": [
      "[2, 3]\n"
     ]
    }
   ],
   "source": [
    "print(\"请输入一个数字\")\n",
    "s = int(input())\n",
    "\n",
    "\n",
    "def hanshu(num):\n",
    "    x = num % 3\n",
    "    y = int(num / 3)\n",
    "    result = []\n",
    "    if x == 0:\n",
    "        for i in range(y):\n",
    "            result.append(3)\n",
    "    elif x == 1:\n",
    "        result.append(2)\n",
    "        result.append(2)\n",
    "        for i in range(y - 1):\n",
    "            result.append(3)\n",
    "    else:\n",
    "        result.append(2)\n",
    "        for i in range(y):\n",
    "            result.append(3)\n",
    "    return result\n",
    "\n",
    "\n",
    "print(hanshu(s))\n"
   ]
  },
  {
   "cell_type": "code",
   "execution_count": 5,
   "id": "c4f0fa63-279e-41b6-9ed7-17c3e5858428",
   "metadata": {},
   "outputs": [
    {
     "name": "stdout",
     "output_type": "stream",
     "text": [
      "1024\n",
      "1048576\n",
      "1073741824\n",
      "1099511627776\n",
      "1125899906842624\n"
     ]
    }
   ],
   "source": [
    "for i in range(10, 60 , 10):\n",
    "    print(2**i)"
   ]
  },
  {
   "cell_type": "code",
   "execution_count": null,
   "id": "fb6fa1f1-2f9e-4b08-82f0-51ce43d80a81",
   "metadata": {},
   "outputs": [],
   "source": [
    "A = [[\"狼\", 0], [\"羊\", 0], [\"菜\", 0]]\n",
    "count = 0\n",
    "route = []\n",
    "\n",
    "\n",
    "def judgement(x):\n",
    "    if x[0][1] + x[2][1] == 1:\n",
    "        return False\n",
    "    else:\n",
    "        return True\n",
    "\n",
    "\n",
    "def pass_river(x, cnt, way):\n",
    "    if x[0][1] * x[1][1] * x[2][1] == 1:\n",
    "        return\n",
    "    for j in range(3):\n",
    "        x[j][1] = 1 - x[j][1]\n",
    "        if judgement(x):\n",
    "            way.append(x[j][1])\n",
    "            cnt += 1\n",
    "            pass_river(x, cnt, way)\n",
    "        else:\n",
    "            x[j][1] = 1 - x[j][1]\n",
    "\n",
    "\n",
    "pass_river(A, count, route)\n",
    "for i in range(count):\n",
    "    print(route[i] + \"过河了\")\n",
    "print(\"一共用了%d步\" % count)"
   ]
  },
  {
   "cell_type": "code",
   "execution_count": 7,
   "id": "5bd90e22-fcf0-4d47-bee9-f305349521ce",
   "metadata": {},
   "outputs": [
    {
     "name": "stdout",
     "output_type": "stream",
     "text": [
      "182836:g = 1.41418\n"
     ]
    }
   ],
   "source": [
    "def square(num):\n",
    "    i = 0\n",
    "    m = 0\n",
    "    precision = 0.0001\n",
    "    for j in range(num+1):\n",
    "        if j**2 > num and m > 0:\n",
    "            m = j - 1\n",
    "        while abs(m**2 - num) > precision:\n",
    "            m += float(precision/10)\n",
    "            i = i + 1\n",
    "    print(\"%d:g = %.5f\" % (i, m))\n",
    "    return\n",
    "\n",
    "\n",
    "square(2)"
   ]
  },
  {
   "cell_type": "code",
   "execution_count": null,
   "id": "e807645c-65f1-4f60-924f-c031e9db66b2",
   "metadata": {},
   "outputs": [],
   "source": [
    "def square(num, x):\n",
    "    g = num / x\n",
    "    i = 0\n",
    "    precision = 0.00000000001\n",
    "    while abs(g ** 2 - num) > precision:\n",
    "        g = (g + num / g) / 2\n",
    "        i += 1\n",
    "    print(\"%d:g = %.6f\" % (i, g))\n",
    "    return\n",
    "\n",
    "for i in [2, 20, 100, 200, 500, 1000, 2000]:\n",
    "    square(2, i)"
   ]
  },
  {
   "cell_type": "code",
   "execution_count": null,
   "id": "29144a5e-e0b7-4e05-9181-80a78a9846e1",
   "metadata": {},
   "outputs": [],
   "source": [
    "def square(num):\n",
    "    for g in [num, 3 * num / 2, num / 2, num / 4, num / 8]:\n",
    "        i = 0\n",
    "        precision = 0.00000000001\n",
    "        while abs(g ** 2 - num) > precision:\n",
    "            g = (g + num / g) / 2\n",
    "            i += 1\n",
    "        print(\"%d:g = %.6f\" % (i, g))\n",
    "    return\n",
    "\n",
    "\n",
    "square(2)"
   ]
  },
  {
   "cell_type": "code",
   "execution_count": null,
   "id": "a03f02ff-2bd1-4076-ad08-c9663d281253",
   "metadata": {},
   "outputs": [],
   "source": [
    "print(\"请输入一个数字\")\n",
    "x = int(input())\n",
    "\n",
    "\n",
    "def cube(num):\n",
    "    g = num / 2\n",
    "    i = 0\n",
    "    precision = 0.00000000001\n",
    "    while abs(g ** 3 - num) > precision:\n",
    "        g = 2 * g / 3 + num / (3 * g ** 2)\n",
    "        i += 1\n",
    "    print(\"%d:g = %.6f\" % (i, g))\n",
    "\n",
    "\n",
    "cube(x)"
   ]
  },
  {
   "cell_type": "code",
   "execution_count": 2,
   "id": "faf314b3-e348-4029-9f0c-97cda16166de",
   "metadata": {},
   "outputs": [
    {
     "name": "stdout",
     "output_type": "stream",
     "text": [
      "第一种方法的结果为3.14159165\n"
     ]
    }
   ],
   "source": [
    "def find(num):\n",
    "    s = 0\n",
    "    for i in range(num):\n",
    "        s += (-1) ** i * (1 / (2 * i + 1))\n",
    "    s = 4 * s\n",
    "    print(\"第一种方法的结果为%.8f\" % s)\n",
    "    return\n",
    "\n",
    "\n",
    "def find2():\n",
    "    return\n",
    "\n",
    "\n",
    "find(1000000)"
   ]
  },
  {
   "cell_type": "code",
   "execution_count": null,
   "id": "49a59c6b-47fe-494e-82dd-0ce2321b2da2",
   "metadata": {},
   "outputs": [],
   "source": [
    "import numpy as np\n",
    "import math\n",
    "\n",
    "\n",
    "def f(x):\n",
    "    return x ** 2 + 4 * x * math.sin(x)\n",
    "\n",
    "\n",
    "def Monte(a, b):\n",
    "    # (a,b)是积分区间\n",
    "    x = np.random.uniform(a, b, 1000000)\n",
    "    result = 0\n",
    "    for i in x:\n",
    "        result += f(i)\n",
    "\n",
    "    return result / 1000000\n",
    "\n",
    "\n",
    "final = Monte(2, 3)\n",
    "print(\"%.6f\" % final)"
   ]
  }
 ],
 "metadata": {
  "kernelspec": {
   "display_name": "Python 3 (ipykernel)",
   "language": "python",
   "name": "python3"
  },
  "language_info": {
   "codemirror_mode": {
    "name": "ipython",
    "version": 3
   },
   "file_extension": ".py",
   "mimetype": "text/x-python",
   "name": "python",
   "nbconvert_exporter": "python",
   "pygments_lexer": "ipython3",
   "version": "3.11.4"
  }
 },
 "nbformat": 4,
 "nbformat_minor": 5
}
