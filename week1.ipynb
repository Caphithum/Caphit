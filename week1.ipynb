{
 "cells": [
  {
   "cell_type": "code",
   "execution_count": 1,
   "id": "78997e79-b8b1-452a-a44f-627fd334c4e6",
   "metadata": {},
   "outputs": [
    {
     "name": "stdout",
     "output_type": "stream",
     "text": [
      "Hello world\n"
     ]
    }
   ],
   "source": [
    "print(\"Hello world\")"
   ]
  },
  {
   "cell_type": "code",
   "execution_count": 2,
   "id": "c99ecd4d-5a01-45ea-87fb-e982ae9e4a0c",
   "metadata": {},
   "outputs": [
    {
     "name": "stdout",
     "output_type": "stream",
     "text": [
      "侯志远10225501438\n"
     ]
    }
   ],
   "source": [
    "print('侯志远10225501438')"
   ]
  },
  {
   "cell_type": "code",
   "execution_count": 4,
   "id": "fc90765d-5392-440b-92e0-d841bb5992bc",
   "metadata": {},
   "outputs": [
    {
     "name": "stdout",
     "output_type": "stream",
     "text": [
      "★★★★★★★★★★★\n",
      "★数据科学与工程导论★\n",
      "★★★★★★★★★★★\n"
     ]
    }
   ],
   "source": [
    "print(chr(0x2605)*11)\n",
    "print(chr(0x2605)+\"数据科学与工程导论\"+chr(0x2605))\n",
    "print(chr(0x2605)*11)"
   ]
  },
  {
   "cell_type": "code",
   "execution_count": 5,
   "id": "04903b97-a92f-4caf-83f6-3d51ababa006",
   "metadata": {},
   "outputs": [
    {
     "name": "stdin",
     "output_type": "stream",
     "text": [
      "请输入一个数 5\n",
      "请输入一个数 8\n",
      "请输入一个数 7\n"
     ]
    },
    {
     "name": "stdout",
     "output_type": "stream",
     "text": [
      "5 7 8\n"
     ]
    }
   ],
   "source": [
    "x = int(input(\"请输入一个数\"))\n",
    "y = int(input(\"请输入一个数\"))\n",
    "z = int(input(\"请输入一个数\"))\n",
    "\n",
    "if x > y:\n",
    "    s = y\n",
    "    y = x\n",
    "    x = s\n",
    "if x > z:\n",
    "    s = z\n",
    "    z = x\n",
    "    x = s\n",
    "if y > z:\n",
    "    s = z\n",
    "    z = y\n",
    "    y = s\n",
    "print(x,y,z)    \n",
    "    "
   ]
  },
  {
   "cell_type": "code",
   "execution_count": 6,
   "id": "63f69471-dbf3-4499-b8bd-28441d367ee9",
   "metadata": {},
   "outputs": [
    {
     "name": "stdout",
     "output_type": "stream",
     "text": [
      "请输入四个数\n"
     ]
    },
    {
     "name": "stdin",
     "output_type": "stream",
     "text": [
      " 5 8 4 6\n"
     ]
    },
    {
     "name": "stdout",
     "output_type": "stream",
     "text": [
      "['8', '6', '5', '4']\n"
     ]
    }
   ],
   "source": [
    "print(\"请输入四个数\")\n",
    "l1 = input().split(\" \")\n",
    "l1.sort(reverse=True)\n",
    "print(l1)"
   ]
  },
  {
   "cell_type": "code",
   "execution_count": 9,
   "id": "d1c8f711-5eeb-4326-bfd5-cd80bb8fe177",
   "metadata": {},
   "outputs": [
    {
     "name": "stdout",
     "output_type": "stream",
     "text": [
      "1\n",
      "3\n",
      "5\n",
      "7\n",
      "9\n",
      "11\n",
      "13\n",
      "15\n",
      "17\n",
      "19\n",
      "21\n",
      "23\n",
      "25\n",
      "27\n",
      "29\n",
      "31\n",
      "33\n",
      "35\n",
      "37\n",
      "39\n",
      "41\n",
      "43\n",
      "45\n",
      "47\n",
      "49\n",
      "51\n",
      "53\n",
      "55\n",
      "57\n",
      "59\n",
      "61\n",
      "63\n",
      "65\n",
      "67\n",
      "69\n",
      "71\n",
      "73\n",
      "75\n",
      "77\n",
      "79\n",
      "81\n",
      "83\n",
      "85\n",
      "87\n",
      "89\n",
      "91\n",
      "93\n",
      "95\n",
      "97\n",
      "99\n"
     ]
    }
   ],
   "source": [
    "def jishu(x):\n",
    "    if x > 100:\n",
    "        return\n",
    "    print(x)\n",
    "    return jishu(x + 2)\n",
    "jishu(1)"
   ]
  },
  {
   "cell_type": "code",
   "execution_count": 10,
   "id": "5bfa7c72-c562-4c37-9c57-09636e82d255",
   "metadata": {},
   "outputs": [
    {
     "name": "stdout",
     "output_type": "stream",
     "text": [
      "4950\n"
     ]
    }
   ],
   "source": [
    "n = 0\n",
    "for i in range(1,100):\n",
    "    n += i\n",
    "print(n)"
   ]
  },
  {
   "cell_type": "code",
   "execution_count": 28,
   "id": "600c653c-fcb3-4f7f-a787-a7dfbbf767a3",
   "metadata": {},
   "outputs": [
    {
     "name": "stdin",
     "output_type": "stream",
     "text": [
      "请输入一个数 5\n"
     ]
    },
    {
     "name": "stdout",
     "output_type": "stream",
     "text": [
      "5\n",
      "4\n",
      "3\n",
      "2\n",
      "1\n"
     ]
    },
    {
     "name": "stdin",
     "output_type": "stream",
     "text": [
      "请输入一个数 5\n"
     ]
    },
    {
     "name": "stdout",
     "output_type": "stream",
     "text": [
      "5\n",
      "4\n",
      "3\n",
      "2\n",
      "1\n"
     ]
    }
   ],
   "source": [
    "n = int(input(\"请输入一个数\"))\n",
    "for i in range(n,0,-1):\n",
    "    print(i)\n",
    "\n",
    "a = int(input(\"请输入一个数\"))\n",
    "b = a\n",
    "while True:\n",
    "    if a == 0:\n",
    "        break\n",
    "    print(a)\n",
    "    a -= 1\n"
   ]
  },
  {
   "cell_type": "code",
   "execution_count": 39,
   "id": "030e2b30-9e50-4aca-94c8-5f867401bbf1",
   "metadata": {},
   "outputs": [
    {
     "name": "stdin",
     "output_type": "stream",
     "text": [
      "请输入字符串S afsadfas\n"
     ]
    },
    {
     "name": "stdout",
     "output_type": "stream",
     "text": [
      "yes\n"
     ]
    }
   ],
   "source": [
    "import re\n",
    "\n",
    "S = input(\"请输入字符串S\")\n",
    "for i in range(len(S)):\n",
    "    if i == len(S)-1:\n",
    "        print(\"no\")\n",
    "        break\n",
    "    n = re.findall(S[i], S)\n",
    "    if len(n) > 1:\n",
    "        print(\"yes\")\n",
    "        break"
   ]
  },
  {
   "cell_type": "code",
   "execution_count": 40,
   "id": "108c7952-b42b-40d6-b511-2ae484308432",
   "metadata": {},
   "outputs": [
    {
     "name": "stdin",
     "output_type": "stream",
     "text": [
      "请输入字符串S Data Science and Engineering\n"
     ]
    },
    {
     "name": "stdout",
     "output_type": "stream",
     "text": [
      "DataScienceandEngineering\n"
     ]
    }
   ],
   "source": [
    "S = input(\"请输入字符串S\")\n",
    "n = S.replace(\" \", \"\")\n",
    "print(n)"
   ]
  },
  {
   "cell_type": "code",
   "execution_count": 44,
   "id": "0a6e96f6-c177-4427-952a-5c823e171d60",
   "metadata": {},
   "outputs": [
    {
     "name": "stdin",
     "output_type": "stream",
     "text": [
      "请输入一个数 125\n"
     ]
    },
    {
     "name": "stdout",
     "output_type": "stream",
     "text": [
      "4.999999999999999\n"
     ]
    }
   ],
   "source": [
    "x = int(input(\"请输入一个数\"))\n",
    "y = x ** (1 / 3)\n",
    "print(y)\n"
   ]
  },
  {
   "cell_type": "code",
   "execution_count": 45,
   "id": "1cdaf22e-48b3-4ccd-ab26-f87a36043070",
   "metadata": {},
   "outputs": [
    {
     "name": "stdin",
     "output_type": "stream",
     "text": [
      "请输入一个数 125\n"
     ]
    },
    {
     "name": "stdout",
     "output_type": "stream",
     "text": [
      "5.0000\n"
     ]
    }
   ],
   "source": [
    "def cube_root(num):\n",
    "    if num < 0:\n",
    "        temp = -num\n",
    "    else:\n",
    "        temp = num\n",
    "    pre = 0.0001\n",
    "    low = 0\n",
    "    high = temp / 2\n",
    "    while abs(high * high * high - temp) > pre:\n",
    "        if high * high * high > temp:\n",
    "            high = high - (high - low) / 2\n",
    "        else:\n",
    "            high = high + (high - low) / 2\n",
    "    return high\n",
    "\n",
    "n = float(input(\"请输入一个数\"))\n",
    "if n < 0:\n",
    "    print('%.4f' % -cube_root(n))\n",
    "else:\n",
    "    print('%.4f' % cube_root(n))"
   ]
  },
  {
   "cell_type": "code",
   "execution_count": null,
   "id": "20ee83c5-4398-4ff4-92b9-843a9f13c1ac",
   "metadata": {},
   "outputs": [],
   "source": []
  }
 ],
 "metadata": {
  "kernelspec": {
   "display_name": "Python 3 (ipykernel)",
   "language": "python",
   "name": "python3"
  },
  "language_info": {
   "codemirror_mode": {
    "name": "ipython",
    "version": 3
   },
   "file_extension": ".py",
   "mimetype": "text/x-python",
   "name": "python",
   "nbconvert_exporter": "python",
   "pygments_lexer": "ipython3",
   "version": "3.11.4"
  }
 },
 "nbformat": 4,
 "nbformat_minor": 5
}
